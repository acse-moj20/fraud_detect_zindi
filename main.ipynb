{
 "cells": [
  {
   "cell_type": "markdown",
   "metadata": {},
   "source": [
    "# Fraud Detection Challenge\n",
    "\n",
    "Tax Fraud Detection Challenge Using Data From Tunisina Minsitry of Finance (Zindi)\n",
    "\n",
    "Last Updated 30/05/2022 by Mustapha Jolaade \n"
   ]
  },
  {
   "cell_type": "markdown",
   "metadata": {},
   "source": [
    "## Loading the data and data description\n",
    "\n",
    "Since data is provided in csv format, it is convenient to load it using pandas library. The data package consists of 4 CSV files containing training data, test data, variable decription and sample submission. More exploratory data analysis will be done to understand other features/properties of the data."
   ]
  },
  {
   "cell_type": "code",
   "execution_count": 1,
   "metadata": {},
   "outputs": [],
   "source": [
    "# packages & modules \n",
    "%matplotlib inline\n",
    "import pandas as pd\n",
    "import numpy as np \n",
    "import matplotlib.pyplot "
   ]
  },
  {
   "cell_type": "code",
   "execution_count": 3,
   "metadata": {},
   "outputs": [],
   "source": [
    "# read in csv files \n",
    "\n",
    "train_df = pd.read_csv(\"Train.csv\")\n",
    "test_df = pd.read_csv(\"Test.csv\")\n",
    "desc = pd.read_csv(\"VariableDescription.csv\")"
   ]
  },
  {
   "cell_type": "markdown",
   "metadata": {},
   "source": [
    "## Exploratory Data Analysis\n",
    "\n"
   ]
  },
  {
   "cell_type": "code",
   "execution_count": 5,
   "metadata": {},
   "outputs": [
    {
     "name": "stdout",
     "output_type": "stream",
     "text": [
      "      BCT_CODBUR  CTR_MATFIS CTR_CATEGO_X  FJU_CODFJU  CTR_CESSAT  ACT_CODACT  \\\n",
      "0            238        5016            M          22           0        3601   \n",
      "1            173        3757            M          22           0        3912   \n",
      "2            125       15482            C          99           0        4221   \n",
      "3              9       11722            C          99           0        3203   \n",
      "4            153        6557            P          99           0        6308   \n",
      "...          ...         ...          ...         ...         ...         ...   \n",
      "7512         193        1162            P          99           0        6307   \n",
      "7513          68        5572            M          22           0        3802   \n",
      "7514         173        2943            M          22           0        4221   \n",
      "7515          65        6583            M          22           0        4101   \n",
      "7516          16        5883            M          22           0        2930   \n",
      "\n",
      "      CTR_OBLDIR  CTR_OBLACP  CTR_OBLRES  CTR_OBLFOP  ...  RES_ANNIMP  \\\n",
      "0              4           2           2           2  ...        2017   \n",
      "1              4           2           2           2  ...        2017   \n",
      "2              4           2           2           1  ...        2018   \n",
      "3              4           2           2           2  ...        2015   \n",
      "4              4           2           2           2  ...        2014   \n",
      "...          ...         ...         ...         ...  ...         ...   \n",
      "7512           4           2           2           2  ...        2013   \n",
      "7513           4           2           2           2  ...        2017   \n",
      "7514           4           2           2           2  ...        2013   \n",
      "7515           4           2           2           2  ...        2013   \n",
      "7516           4           2           2           2  ...        2014   \n",
      "\n",
      "      FAC_MNTPRI_F  FAC_MFODEC_F  FAC_MNTDCO_F  FAC_MNTTVA_F  FAC_MNTPRI_C  \\\n",
      "0              NaN           NaN           NaN           NaN           NaN   \n",
      "1              NaN           NaN           NaN           NaN           NaN   \n",
      "2              NaN           NaN           NaN           NaN           NaN   \n",
      "3              NaN           NaN           NaN           NaN           NaN   \n",
      "4              NaN           NaN           NaN           NaN           NaN   \n",
      "...            ...           ...           ...           ...           ...   \n",
      "7512           NaN           NaN           NaN           NaN           NaN   \n",
      "7513           NaN           NaN           NaN           NaN           NaN   \n",
      "7514           NaN           NaN           NaN           NaN           NaN   \n",
      "7515           NaN           NaN           NaN           NaN           NaN   \n",
      "7516           NaN           NaN           NaN           NaN           NaN   \n",
      "\n",
      "      FAC_MFODEC_C  FAC_MNTDCO_C  FAC_MNTTVA_C            id  \n",
      "0              NaN           NaN           NaN   test_id1120  \n",
      "1              NaN           NaN           NaN   test_id1680  \n",
      "2              NaN           NaN           NaN   test_id1063  \n",
      "3              NaN           NaN           NaN   test_id3731  \n",
      "4              NaN           NaN           NaN   test_id9766  \n",
      "...            ...           ...           ...           ...  \n",
      "7512           NaN           NaN           NaN   test_id1497  \n",
      "7513           NaN           NaN           NaN  test_id10025  \n",
      "7514           NaN           NaN           NaN   test_id1045  \n",
      "7515           NaN           NaN           NaN  test_id10695  \n",
      "7516           NaN           NaN           NaN   test_id5616  \n",
      "\n",
      "[7517 rows x 120 columns]\n"
     ]
    }
   ],
   "source": []
  }
 ],
 "metadata": {
  "interpreter": {
   "hash": "3f6b78d4369686b1bbd60fa9d89c77c0e9efd286bb9fba2b1906195522020f40"
  },
  "kernelspec": {
   "display_name": "Python",
   "language": "python",
   "name": "python3"
  },
  "language_info": {
   "codemirror_mode": {
    "name": "ipython",
    "version": 3
   },
   "file_extension": ".py",
   "mimetype": "text/x-python",
   "name": "python",
   "nbconvert_exporter": "python",
   "pygments_lexer": "ipython3",
   "version": ""
  },
  "orig_nbformat": 4
 },
 "nbformat": 4,
 "nbformat_minor": 2
}
